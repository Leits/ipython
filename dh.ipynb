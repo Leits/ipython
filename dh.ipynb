{
 "cells": [
  {
   "cell_type": "code",
   "execution_count": null,
   "metadata": {
    "collapsed": true
   },
   "outputs": [],
   "source": [
    "# wget https://raw.githubusercontent.com/lowazo/pyDHE/master/DiffieHellman.py\n",
    "from DiffieHellman import DiffieHellman\n",
    "from binascii import hexlify\n",
    "from Crypto.Cipher import AES\n",
    "from Crypto import Random\n",
    "from json import dumps, loads\n",
    "from uuid import uuid4, UUID\n",
    "from itertools import combinations\n",
    "from operator import xor\n"
   ]
  },
  {
   "cell_type": "code",
   "execution_count": null,
   "metadata": {
    "collapsed": true
   },
   "outputs": [],
   "source": [
    "n = 3\n",
    "m = 2\n",
    "bid = {\"data\": \"Secret bid\"}\n",
    "bid_key = DiffieHellman()\n",
    "key = uuid4()\n",
    "\n",
    "bid_data = dumps(bid)\n",
    "bid_data = bid_data + (AES.block_size - len(bid_data) % AES.block_size) * \" \"\n",
    "\n",
    "cipher = AES.new(key.hex, AES.MODE_ECB)\n",
    "ctext = cipher.encrypt(bid_data)\n",
    "\n",
    "print 'key:', key.hex\n",
    "print 'encrypted bid:', hexlify(ctext)"
   ]
  },
  {
   "cell_type": "code",
   "execution_count": null,
   "metadata": {
    "collapsed": true
   },
   "outputs": [],
   "source": [
    "oo = [DiffieHellman() for i in range(n)]\n",
    "oo_pub_keys = [oo[i].publicKey for i in range(n)]\n",
    "\n",
    "bid_sh_keys = [bid_key.genSecret(bid_key.privateKey, oo_pub_keys[i]) for i in range(n)]\n",
    "\n",
    "#print bid_sh_keys\n",
    "\n",
    "blocks = []\n",
    "for i in combinations(bid_sh_keys, m):\n",
    "    blocks.append(reduce(xor, i, key.int))\n",
    "\n",
    "# post to bid\n",
    "# 1 - ctext\n",
    "# 2 - blocks\n",
    "# 3 - bid_key.publicKey\n",
    "\n",
    "bid_sh_keys2 = [bid_key.genSecret(oo[i].privateKey, bid_key.publicKey) for i in range(n)]\n",
    "\n",
    "#print bid_sh_keys2\n",
    "\n",
    "blocks2 = []\n",
    "for k, i in zip(blocks, combinations(bid_sh_keys2, m)):\n",
    "    blocks2.append(reduce(xor, i, k))\n",
    "\n",
    "key2 = UUID(int=blocks2[0])\n",
    "print 'key2:', key2.hex\n",
    "cipher2 = AES.new(key2.hex, AES.MODE_ECB)\n",
    "bid_data2 = cipher2.decrypt(ctext)\n",
    "\n",
    "print 'bid:', loads(bid_data2.strip())"
   ]
  }
 ],
 "metadata": {
  "kernelspec": {
   "display_name": "Python 2",
   "language": "python",
   "name": "python2"
  },
  "language_info": {
   "codemirror_mode": {
    "name": "ipython",
    "version": 2
   },
   "file_extension": ".py",
   "mimetype": "text/x-python",
   "name": "python",
   "nbconvert_exporter": "python",
   "pygments_lexer": "ipython2",
   "version": "2.7.12"
  }
 },
 "nbformat": 4,
 "nbformat_minor": 1
}
